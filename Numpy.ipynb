{
  "nbformat": 4,
  "nbformat_minor": 0,
  "metadata": {
    "colab": {
      "provenance": [],
      "authorship_tag": "ABX9TyMzIU6p/S/1lVYQvQFoMnr9",
      "include_colab_link": true
    },
    "kernelspec": {
      "name": "python3",
      "display_name": "Python 3"
    },
    "language_info": {
      "name": "python"
    }
  },
  "cells": [
    {
      "cell_type": "markdown",
      "metadata": {
        "id": "view-in-github",
        "colab_type": "text"
      },
      "source": [
        "<a href=\"https://colab.research.google.com/github/thorat1607/thorat1607/blob/ML_practical/Numpy.ipynb\" target=\"_parent\"><img src=\"https://colab.research.google.com/assets/colab-badge.svg\" alt=\"Open In Colab\"/></a>"
      ]
    },
    {
      "cell_type": "markdown",
      "source": [
        "Numpy Tutorial"
      ],
      "metadata": {
        "id": "rdfc117nFTIh"
      }
    },
    {
      "cell_type": "markdown",
      "source": [
        "1. Import numpy library and its version:"
      ],
      "metadata": {
        "id": "TCaC0euLOoRF"
      }
    },
    {
      "cell_type": "code",
      "execution_count": null,
      "metadata": {
        "colab": {
          "base_uri": "https://localhost:8080/"
        },
        "id": "FGk0C_7pFLju",
        "outputId": "466a7138-f75d-4312-bbc3-967bfad833c1"
      },
      "outputs": [
        {
          "output_type": "stream",
          "name": "stdout",
          "text": [
            "1.21.6\n"
          ]
        }
      ],
      "source": [
        "import numpy as np\n",
        "\n",
        "print(np.__version__)\n"
      ]
    },
    {
      "cell_type": "markdown",
      "source": [
        "2. Numpy Creating Arrays:"
      ],
      "metadata": {
        "id": "5M-rF8mSO1Zh"
      }
    },
    {
      "cell_type": "code",
      "source": [
        "arr = np.array([1,2,3,4,5])\n",
        "print(arr)"
      ],
      "metadata": {
        "colab": {
          "base_uri": "https://localhost:8080/"
        },
        "id": "wFQOeWK8Gcxn",
        "outputId": "4092183b-be7b-4d0e-fee7-9c07c7125e8a"
      },
      "execution_count": null,
      "outputs": [
        {
          "output_type": "stream",
          "name": "stdout",
          "text": [
            "[1 2 3 4 5]\n"
          ]
        }
      ]
    },
    {
      "cell_type": "markdown",
      "source": [
        "3. Numpy Array Dimension:"
      ],
      "metadata": {
        "id": "pGED82bNeL_e"
      }
    },
    {
      "cell_type": "code",
      "source": [
        "a = np.array(16)\n",
        "b = np.array([1,2,3,4,5])\n",
        "c = np.array([[1,2,3],[4,5,6]])\n",
        "d = np.array([[[1,2,3], [4,5,6], [7,8,9]]])\n",
        "\n",
        "print(a.ndim)\n",
        "print(b.ndim)\n",
        "print(c.ndim)\n",
        "print(d.ndim)"
      ],
      "metadata": {
        "colab": {
          "base_uri": "https://localhost:8080/"
        },
        "id": "GImJMY0vHOFw",
        "outputId": "d19c93fa-1a69-4b51-8a18-4e7698d6e255"
      },
      "execution_count": null,
      "outputs": [
        {
          "output_type": "stream",
          "name": "stdout",
          "text": [
            "0\n",
            "1\n",
            "2\n",
            "3\n"
          ]
        }
      ]
    },
    {
      "cell_type": "markdown",
      "source": [
        "4. Numpy Array Shape:"
      ],
      "metadata": {
        "id": "xBw-2fu3etU5"
      }
    },
    {
      "cell_type": "code",
      "source": [
        "#arr = np.array([1,2,3,4,5], ndmin=5)\n",
        "arr = np.array([1, 2, 3, 4], ndmin=5)\n",
        "print(arr)\n",
        "print(\"number of dimension:\", arr.ndim )\n",
        "print(\"Shape of an array:\", arr.shape)\n"
      ],
      "metadata": {
        "colab": {
          "base_uri": "https://localhost:8080/"
        },
        "id": "W_0z6uiNJMwx",
        "outputId": "75d19646-6ccb-4f76-c6f9-9a55a3941304"
      },
      "execution_count": null,
      "outputs": [
        {
          "output_type": "stream",
          "name": "stdout",
          "text": [
            "[[[[[1 2 3 4]]]]]\n",
            "number of dimension: 5\n",
            "Shape of an array: (1, 1, 1, 1, 4)\n"
          ]
        }
      ]
    },
    {
      "cell_type": "markdown",
      "source": [
        "5. Numpy Array Index: "
      ],
      "metadata": {
        "id": "-gb8ze6OfEAX"
      }
    },
    {
      "cell_type": "code",
      "source": [
        "arr = np.array([[[1,2,3], [4,5,6]], [[7,8,9], [10,11,12]]])\n",
        "print(arr)\n",
        "arr[0,1,2]"
      ],
      "metadata": {
        "colab": {
          "base_uri": "https://localhost:8080/"
        },
        "id": "vbT-Cw0rOe_q",
        "outputId": "98f30e5f-26fd-44dd-871c-3794d187ce42"
      },
      "execution_count": null,
      "outputs": [
        {
          "output_type": "stream",
          "name": "stdout",
          "text": [
            "[[[ 1  2  3]\n",
            "  [ 4  5  6]]\n",
            "\n",
            " [[ 7  8  9]\n",
            "  [10 11 12]]]\n"
          ]
        },
        {
          "output_type": "execute_result",
          "data": {
            "text/plain": [
              "6"
            ]
          },
          "metadata": {},
          "execution_count": 18
        }
      ]
    },
    {
      "cell_type": "markdown",
      "source": [
        "6. Numpy Array Slicing:"
      ],
      "metadata": {
        "id": "fcszPFysfJJu"
      }
    },
    {
      "cell_type": "code",
      "source": [
        "#printing odd numbers from array\n",
        "arr = np.array([1,2,3,4,5,6,7,8,9,10,11,12])\n",
        "print(arr[0:12:2])"
      ],
      "metadata": {
        "colab": {
          "base_uri": "https://localhost:8080/"
        },
        "id": "cUoBm38fTRLL",
        "outputId": "3bf02774-ae06-45d3-e9db-9140e45fe58e"
      },
      "execution_count": null,
      "outputs": [
        {
          "output_type": "stream",
          "name": "stdout",
          "text": [
            "[ 1  3  5  7  9 11]\n"
          ]
        }
      ]
    },
    {
      "cell_type": "markdown",
      "source": [
        "7. Numpy Array Datatypes:"
      ],
      "metadata": {
        "id": "qt37uwc4fQij"
      }
    },
    {
      "cell_type": "code",
      "source": [
        "a = np.array([1,2,3,4,5])\n",
        "b = np.array([\"Parth\", \"Arjun\", \"Messi\"])\n",
        "print(a.dtype, \"\\n\", b.dtype)\n"
      ],
      "metadata": {
        "id": "LPAN8MTnT_ZR",
        "colab": {
          "base_uri": "https://localhost:8080/"
        },
        "outputId": "d8b11f3b-068c-40e6-bd2d-6f30e0678a3f"
      },
      "execution_count": null,
      "outputs": [
        {
          "output_type": "stream",
          "name": "stdout",
          "text": [
            "int64 \n",
            " <U5\n"
          ]
        }
      ]
    },
    {
      "cell_type": "markdown",
      "source": [
        "8. Numpy Reshape Array:"
      ],
      "metadata": {
        "id": "Piy7SLVVgpgF"
      }
    },
    {
      "cell_type": "code",
      "source": [
        "a = np.array([1,2,3,4,5,6,7,8,9,10,11,12]) #1-D array\n",
        "b = a.reshape(4,3) #2-D array\n",
        "c = a.reshape(2,3,2) #3-D array\n",
        "print( b)\n",
        "print(\"\\n\",c)"
      ],
      "metadata": {
        "colab": {
          "base_uri": "https://localhost:8080/"
        },
        "id": "fFlQov9uhRhk",
        "outputId": "2d7c48b6-4c83-4864-92ed-8a1a8efa282d"
      },
      "execution_count": null,
      "outputs": [
        {
          "output_type": "stream",
          "name": "stdout",
          "text": [
            "[[ 1  2  3]\n",
            " [ 4  5  6]\n",
            " [ 7  8  9]\n",
            " [10 11 12]]\n",
            "\n",
            " [[[ 1  2]\n",
            "  [ 3  4]\n",
            "  [ 5  6]]\n",
            "\n",
            " [[ 7  8]\n",
            "  [ 9 10]\n",
            "  [11 12]]]\n"
          ]
        }
      ]
    },
    {
      "cell_type": "markdown",
      "source": [
        "9. Numpy Array Iterating:"
      ],
      "metadata": {
        "id": "K9Tb5PTtixf0"
      }
    },
    {
      "cell_type": "code",
      "source": [
        "a = np.array([1,2,3,4,5,6,7,8,9,10,11,12])\n",
        "b = a.reshape(4,3)\n",
        "for x in b:\n",
        "  print(x)\n",
        "for i in np.nditer(b):\n",
        "  print(i)"
      ],
      "metadata": {
        "colab": {
          "base_uri": "https://localhost:8080/"
        },
        "id": "9qcfwEzwjzog",
        "outputId": "7fd5b93c-f066-45b3-bb53-10032a9eca24"
      },
      "execution_count": null,
      "outputs": [
        {
          "output_type": "stream",
          "name": "stdout",
          "text": [
            "[1 2 3]\n",
            "[4 5 6]\n",
            "[7 8 9]\n",
            "[10 11 12]\n",
            "1\n",
            "2\n",
            "3\n",
            "4\n",
            "5\n",
            "6\n",
            "7\n",
            "8\n",
            "9\n",
            "10\n",
            "11\n",
            "12\n"
          ]
        }
      ]
    },
    {
      "cell_type": "markdown",
      "source": [
        "10. Numpy joining Array:"
      ],
      "metadata": {
        "id": "10AG3RDjkwxY"
      }
    },
    {
      "cell_type": "code",
      "source": [
        "a = np.array([1,2,3])\n",
        "b = np.array([4,5,6])\n",
        "c = np.concatenate((a,b))\n",
        "#d = np.concatenate((a,b),axis=1)\n",
        "e = np.hstack((a,b))#stack along row\n",
        "f = np.vstack((a,b))#stack along column\n",
        "g = np.dstack((a,b))#stack along depth\n",
        "print(c, \"\\n\\n\", e, \"\\n\\n\", f, \"\\n\\n\", g) "
      ],
      "metadata": {
        "colab": {
          "base_uri": "https://localhost:8080/"
        },
        "id": "QN3nuC9kkwUk",
        "outputId": "50faf997-608d-4ced-f328-1badaee73274"
      },
      "execution_count": null,
      "outputs": [
        {
          "output_type": "stream",
          "name": "stdout",
          "text": [
            "[1 2 3 4 5 6] \n",
            "\n",
            " [1 2 3 4 5 6] \n",
            "\n",
            " [[1 2 3]\n",
            " [4 5 6]] \n",
            "\n",
            " [[[1 4]\n",
            "  [2 5]\n",
            "  [3 6]]]\n"
          ]
        }
      ]
    },
    {
      "cell_type": "markdown",
      "source": [
        "11. Numpy Array Split:"
      ],
      "metadata": {
        "id": "6NJGwXakoH2D"
      }
    },
    {
      "cell_type": "code",
      "source": [
        "a = np.array([[1,2,3], [4,5,6], [7,8,9]])\n",
        "b = np.array_split(a, 3)\n",
        "c = np.array_split(a, 3, axis=1)\n",
        "print(b)\n",
        "print(c)"
      ],
      "metadata": {
        "colab": {
          "base_uri": "https://localhost:8080/"
        },
        "id": "kqcTkpespK50",
        "outputId": "2842ef4d-6015-446c-b932-9c52bb5d7cec"
      },
      "execution_count": null,
      "outputs": [
        {
          "output_type": "stream",
          "name": "stdout",
          "text": [
            "[array([[1, 2, 3]]), array([[4, 5, 6]]), array([[7, 8, 9]])]\n",
            "[array([[1],\n",
            "       [4],\n",
            "       [7]]), array([[2],\n",
            "       [5],\n",
            "       [8]]), array([[3],\n",
            "       [6],\n",
            "       [9]])]\n"
          ]
        }
      ]
    },
    {
      "cell_type": "markdown",
      "source": [
        "12. Numpy Array Search & Sort"
      ],
      "metadata": {
        "id": "JmLWdrsKrYp9"
      }
    },
    {
      "cell_type": "code",
      "source": [
        "a = np.array([1,2,3,4,5,6,7,8])\n",
        "b = np.where(a == 7)#to search index no. of given value\n",
        "c = np.where(a%2==0)#to search index value of even no. from array\n",
        "print(b)\n",
        "print(c)\n",
        "\n",
        "arr = np.array([3,4,5,1,2,9,6,7,8])\n",
        "x = np.sort(arr)#to sort given array \n",
        "print(\"\\n\\n\",x)"
      ],
      "metadata": {
        "id": "h165MukGr2mT",
        "colab": {
          "base_uri": "https://localhost:8080/"
        },
        "outputId": "bc2ca298-f491-4ad1-f97f-492ca89058dd"
      },
      "execution_count": null,
      "outputs": [
        {
          "output_type": "stream",
          "name": "stdout",
          "text": [
            "(array([6]),)\n",
            "(array([1, 3, 5, 7]),)\n",
            "\n",
            "\n",
            " [1 2 3 4 5 6 7 8 9]\n"
          ]
        }
      ]
    },
    {
      "cell_type": "markdown",
      "source": [
        "13. Numpy Filter Array"
      ],
      "metadata": {
        "id": "W4Pulifx8RBU"
      }
    },
    {
      "cell_type": "code",
      "source": [
        "a = np.array([1,2,3,4,5,6,7])\n",
        "filter_a = a>3\n",
        "b = a[filter_a]\n",
        "print(filter_a)\n",
        "print(b)"
      ],
      "metadata": {
        "colab": {
          "base_uri": "https://localhost:8080/"
        },
        "id": "fIaW3K8T8VLq",
        "outputId": "d3901e09-2615-4aae-b2cb-d0a023cf8d41"
      },
      "execution_count": null,
      "outputs": [
        {
          "output_type": "stream",
          "name": "stdout",
          "text": [
            "[False False False  True  True  True  True]\n",
            "[4 5 6 7]\n"
          ]
        }
      ]
    }
  ]
}