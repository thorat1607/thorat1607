{
 "cells": [
  {
   "attachments": {},
   "cell_type": "markdown",
   "metadata": {},
   "source": [
    "# My Jupyter Notebook on IBM Watson Studio"
   ]
  },
  {
   "attachments": {},
   "cell_type": "markdown",
   "metadata": {},
   "source": [
    "Name : **Parth Thorat**\n",
    "\n",
    "\n",
    "I'm a student."
   ]
  },
  {
   "attachments": {},
   "cell_type": "markdown",
   "metadata": {},
   "source": [
    "<html>\n",
    "<head>\n",
    "<body>\n",
    "<p><i>I'm intrested in data science because I would love to contribute towards affordable and quality healthcare in future.\n",
    "</i></p>\n",
    "</body>\n",
    "</head>\n",
    "</html>\n"
   ]
  },
  {
   "attachments": {},
   "cell_type": "markdown",
   "metadata": {},
   "source": [
    "<html>\n",
    "<head>\n",
    "<body>\n",
    "<h3><b>The Below Code will print \"Hello World!\"</b></h3>\n",
    "</body>\n",
    "</head>\n",
    "</html>"
   ]
  },
  {
   "cell_type": "code",
   "execution_count": 1,
   "metadata": {
    "vscode": {
     "languageId": "python"
    }
   },
   "outputs": [
    {
     "name": "stdout",
     "output_type": "stream",
     "text": [
      "Hello World!\n"
     ]
    }
   ],
   "source": [
    "print(\"Hello World!\")"
   ]
  },
  {
   "attachments": {},
   "cell_type": "markdown",
   "metadata": {},
   "source": [
    "<ol>\n",
    "<li>This is item 1\n",
    "<li>This is item 2\n",
    "<li>This is item 3\n",
    "<li>This is item 4\n",
    "</ol>\n",
    "<ul TYPE=square >\n",
    "<li>This is item 1\n",
    "<li>This is item 2\n",
    "<li>This is item 3\n",
    "<li>This is item 4\n",
    "</ul>\n",
    "<TABLE BORDER>\n",
    "     <TR>\n",
    "             <TD>Monday</TD> <TD>Wednesday</TD> <TD>Friday</TD>\n",
    "     </TR>\n",
    "     <TR>\n",
    "              <TD>Swim</TD> <TD>Walk</TD><TD>Gym</TD>\n",
    "     </TR>\n",
    "</TABLE>\n",
    "<br>\n",
    "\n",
    "\n",
    "<img src=\"https://www.google.com/url?sa=i&url=https%3A%2F%2Fpixabay.com%2Fimages%2Fsearch%2Fcar%2F&psig=AOvVaw3XMKwuqCw5mXv44OWEPhjo&ust=1671990255490000&source=images&cd=vfe&ved=0CA8QjRxqFwoTCOjkrqPnkvwCFQAAAAAdAAAAABAE\" alt=\"image of car\">"
   ]
  }
 ],
 "metadata": {
  "kernelspec": {
   "display_name": "Python 3 (ipykernel)",
   "language": "python",
   "name": "python3"
  },
  "orig_nbformat": 4
 },
 "nbformat": 4,
 "nbformat_minor": 2
}
