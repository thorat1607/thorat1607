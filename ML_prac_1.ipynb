{
  "nbformat": 4,
  "nbformat_minor": 0,
  "metadata": {
    "colab": {
      "provenance": [],
      "authorship_tag": "ABX9TyPU9EGakJVg9mNw8ne0/031",
      "include_colab_link": true
    },
    "kernelspec": {
      "name": "python3",
      "display_name": "Python 3"
    },
    "language_info": {
      "name": "python"
    }
  },
  "cells": [
    {
      "cell_type": "markdown",
      "metadata": {
        "id": "view-in-github",
        "colab_type": "text"
      },
      "source": [
        "<a href=\"https://colab.research.google.com/github/thorat1607/thorat1607/blob/ML_practical/ML_prac_1.ipynb\" target=\"_parent\"><img src=\"https://colab.research.google.com/assets/colab-badge.svg\" alt=\"Open In Colab\"/></a>"
      ]
    },
    {
      "cell_type": "markdown",
      "source": [
        "1. Python Syntax:<br>\n",
        "(to print a statement in python)"
      ],
      "metadata": {
        "id": "_k5S4e08998B"
      }
    },
    {
      "cell_type": "code",
      "execution_count": null,
      "metadata": {
        "colab": {
          "base_uri": "https://localhost:8080/"
        },
        "id": "Bpq-k4Ov96yP",
        "outputId": "1e7f1e33-f39c-4a25-e4c7-c7211aff5c71"
      },
      "outputs": [
        {
          "output_type": "stream",
          "name": "stdout",
          "text": [
            "Hello World!\n"
          ]
        }
      ],
      "source": [
        "print(\"Hello World!\")"
      ]
    },
    {
      "cell_type": "markdown",
      "source": [
        "2. Python Comment:\n",
        "   (Singl-line comment)"
      ],
      "metadata": {
        "id": "HMXTkS_gAOFE"
      }
    },
    {
      "cell_type": "code",
      "source": [
        "#to print my name\n",
        "print(\"My name is Parth\")"
      ],
      "metadata": {
        "colab": {
          "base_uri": "https://localhost:8080/"
        },
        "id": "pspSrdjhAa1a",
        "outputId": "79587ff3-f0f0-41fc-af20-85dd58a39bd0"
      },
      "execution_count": null,
      "outputs": [
        {
          "output_type": "stream",
          "name": "stdout",
          "text": [
            "My name is Parth\n"
          ]
        }
      ]
    },
    {
      "cell_type": "markdown",
      "source": [
        "3. Python variables:"
      ],
      "metadata": {
        "id": "D803FYEMBzpq"
      }
    },
    {
      "cell_type": "code",
      "source": [
        "x = 1607\n",
        "y = \"Parth\"\n",
        "print(x)\n",
        "print(y)\n"
      ],
      "metadata": {
        "colab": {
          "base_uri": "https://localhost:8080/"
        },
        "id": "zBOSYWraB3-B",
        "outputId": "20557162-5b37-4311-cbed-8d9cf2528576"
      },
      "execution_count": null,
      "outputs": [
        {
          "output_type": "stream",
          "name": "stdout",
          "text": [
            "1607\n",
            "Parth\n"
          ]
        }
      ]
    },
    {
      "cell_type": "markdown",
      "source": [
        "4. Python Casting:"
      ],
      "metadata": {
        "id": "KUNjnL3PYjMY"
      }
    },
    {
      "cell_type": "code",
      "source": [
        "x = int(1.6)\n",
        "y = str(3)\n",
        "print(type(y))\n",
        "print(x)\n",
        "print(y)"
      ],
      "metadata": {
        "colab": {
          "base_uri": "https://localhost:8080/"
        },
        "id": "Jf1q9XH5YoDB",
        "outputId": "6d881bab-9717-49ec-dffd-8569b445efbd"
      },
      "execution_count": null,
      "outputs": [
        {
          "output_type": "stream",
          "name": "stdout",
          "text": [
            "<class 'str'>\n",
            "1\n",
            "3\n"
          ]
        }
      ]
    },
    {
      "cell_type": "markdown",
      "source": [
        "5. Python Strings<br>\n",
        "   5.1 Slicing String<br>\n",
        "   5.2 Modify String<br>\n",
        "   5.3 Concatenate String "
      ],
      "metadata": {
        "id": "hK7zpQgoaiKC"
      }
    },
    {
      "cell_type": "code",
      "source": [
        "#5.1 Slicing String\n",
        "a = \"Parth\"\n",
        "print(a[2:]) #range from start & end not included\n",
        "print(a[:4]) #range from end & start not included\n",
        "print(a[1:4]) # range is defined for start and end "
      ],
      "metadata": {
        "colab": {
          "base_uri": "https://localhost:8080/"
        },
        "id": "xCKZL8SIbWqP",
        "outputId": "ba5a1d8f-8d12-4cae-b3df-99f4f13788fe"
      },
      "execution_count": null,
      "outputs": [
        {
          "output_type": "stream",
          "name": "stdout",
          "text": [
            "rth\n",
            "Part\n",
            "art\n"
          ]
        }
      ]
    },
    {
      "cell_type": "code",
      "source": [
        "#5.2 Modify String\n",
        "a = \"Parth Thorat\"\n",
        "print(a.upper())\n",
        "print(a.lower())\n",
        "print(a.split(\",\"))\n",
        "print(a.replace(\"Parth\",\"Arjun\"))\n"
      ],
      "metadata": {
        "colab": {
          "base_uri": "https://localhost:8080/"
        },
        "id": "tPY2FYBCcKiM",
        "outputId": "b8bd73c7-4baf-452e-a76a-d247dfd10bea"
      },
      "execution_count": null,
      "outputs": [
        {
          "output_type": "stream",
          "name": "stdout",
          "text": [
            "PARTH THORAT\n",
            "parth thorat\n",
            "['Parth Thorat']\n",
            "Arjun Thorat\n"
          ]
        }
      ]
    },
    {
      "cell_type": "code",
      "source": [
        "#5.3 Concatenate String\n",
        "a = \"Parth\"\n",
        "b = \"Thorat\"\n",
        "c = a +\" \"+b\n",
        "print(\"My Name is \"+ c)"
      ],
      "metadata": {
        "colab": {
          "base_uri": "https://localhost:8080/"
        },
        "id": "Des-gyx0dKz3",
        "outputId": "c544d404-f478-4fca-815d-efde9d655c3d"
      },
      "execution_count": null,
      "outputs": [
        {
          "output_type": "stream",
          "name": "stdout",
          "text": [
            "My Name is Parth Thorat\n"
          ]
        }
      ]
    },
    {
      "cell_type": "markdown",
      "source": [
        " 6. Python Lists, Tuples, Dictionaries, Set:"
      ],
      "metadata": {
        "id": "57LnMbf3857K"
      }
    },
    {
      "cell_type": "code",
      "source": [
        "#list\n",
        "list_1 = [\"parth\", True, 1607, \"male\"]\n",
        "print(list_1)\n",
        "print(type(list_1))\n",
        "\n",
        "#tuple\n",
        "tuple_1 = (\"parth\", True, 1607, \"male\")\n",
        "print(tuple_1)\n",
        "print(type(tuple_1))\n",
        "\n",
        "#Dictionaries\n",
        "dict_1 = {\"Name\": \"Parth\", \"BOD\": 1607, \"Current\": \"Student\"}\n",
        "print(dict_1)\n",
        "print(type(dict_1))\n",
        "\n",
        "#Set\n",
        "set_1 = {\"Parth\", 1607, \"Student\"}\n",
        "print(set_1)\n",
        "print(type(set_1))"
      ],
      "metadata": {
        "colab": {
          "base_uri": "https://localhost:8080/"
        },
        "id": "PSFrGoYr8-J3",
        "outputId": "f8596c93-0161-4e21-ba94-4f32fb7f7cb4"
      },
      "execution_count": 5,
      "outputs": [
        {
          "output_type": "stream",
          "name": "stdout",
          "text": [
            "['parth', True, 1607, 'male']\n",
            "<class 'list'>\n",
            "('parth', True, 1607, 'male')\n",
            "<class 'tuple'>\n",
            "{'Name': 'Parth', 'BOD': 1607, 'Current': 'Student'}\n",
            "<class 'dict'>\n",
            "{'Parth', 'Student', 1607}\n",
            "<class 'set'>\n"
          ]
        }
      ]
    },
    {
      "cell_type": "markdown",
      "source": [
        "7. Python If-Else Statement:"
      ],
      "metadata": {
        "id": "l67X9RlvAEzP"
      }
    },
    {
      "cell_type": "code",
      "source": [
        "#To print whether no. is odd or even\n",
        "a = int(input(\"Enter number: \"))\n",
        "if(a%2==0):\n",
        "  print(\"The given no. is even\")\n",
        "else:\n",
        "  print(\"The given no. is odd\")"
      ],
      "metadata": {
        "colab": {
          "base_uri": "https://localhost:8080/"
        },
        "id": "RdkrB_2-A3D2",
        "outputId": "87f337b2-cf0d-44e9-bf59-634b6c817669"
      },
      "execution_count": 7,
      "outputs": [
        {
          "output_type": "stream",
          "name": "stdout",
          "text": [
            "Enter number: 7\n",
            "The given no. is odd\n"
          ]
        }
      ]
    },
    {
      "cell_type": "markdown",
      "source": [
        "8. Python For loop Statement:"
      ],
      "metadata": {
        "id": "eJLnXjLzDAo1"
      }
    },
    {
      "cell_type": "code",
      "source": [
        "#to print sum of n numbers\n",
        "n = int(input(\"Enter Natural no.: \"))\n",
        "total_sum = 0\n",
        "for i in range(1,n+1):\n",
        "  total_sum = total_sum + i\n",
        "print(\"total sum of given no. is\", total_sum)"
      ],
      "metadata": {
        "colab": {
          "base_uri": "https://localhost:8080/"
        },
        "id": "9zIh26bqDHyf",
        "outputId": "160944b7-73d7-4bb9-e7e3-8078177edc3c"
      },
      "execution_count": 9,
      "outputs": [
        {
          "output_type": "stream",
          "name": "stdout",
          "text": [
            "Enter Natural no.: 4\n",
            "total sum of given no. is 10\n"
          ]
        }
      ]
    },
    {
      "cell_type": "markdown",
      "source": [
        "9. Python While Loop Statement:"
      ],
      "metadata": {
        "id": "AxFe7mJ3I9lO"
      }
    },
    {
      "cell_type": "code",
      "source": [
        "#To print factorial of N\n",
        "n = int(input(\"Enter positive number: \"))\n",
        "num = 1\n",
        "while n>=1:\n",
        "  num = num*n\n",
        "  n = n-1\n",
        "print(\"The factorial number is \",num)"
      ],
      "metadata": {
        "colab": {
          "base_uri": "https://localhost:8080/"
        },
        "id": "RvC9Zy__GjMA",
        "outputId": "4e93f2c3-73d5-42a1-8561-01c8a48b2db8"
      },
      "execution_count": 20,
      "outputs": [
        {
          "output_type": "stream",
          "name": "stdout",
          "text": [
            "Enter positive number: 5\n",
            "The factorial number is  120\n"
          ]
        }
      ]
    },
    {
      "cell_type": "markdown",
      "source": [
        "10. Python Function Statement"
      ],
      "metadata": {
        "id": "0C1OWYv7K_BF"
      }
    },
    {
      "cell_type": "code",
      "source": [
        "def my_name(fname, lname):\n",
        "  print(\"My name is \" + fname +\" \" + lname)\n",
        "\n",
        "my_name(\"Parth\", \"Thorat\")"
      ],
      "metadata": {
        "colab": {
          "base_uri": "https://localhost:8080/"
        },
        "id": "biKs0cpyLCdN",
        "outputId": "8b7a6273-f732-4ef2-bdf6-906c6fa81558"
      },
      "execution_count": 22,
      "outputs": [
        {
          "output_type": "stream",
          "name": "stdout",
          "text": [
            "My name is Parth Thorat\n"
          ]
        }
      ]
    }
  ]
}